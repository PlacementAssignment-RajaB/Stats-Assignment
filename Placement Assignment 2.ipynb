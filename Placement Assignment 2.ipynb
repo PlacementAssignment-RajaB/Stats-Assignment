{
 "cells": [
  {
   "cell_type": "markdown",
   "id": "3f1d5824",
   "metadata": {},
   "source": [
    "#### Q-3. \n",
    "Consider the ‘Blood Pressure Before’ and ‘Blood Pressure After’ columns from the\n",
    "data and calculate the following\n",
    "\n",
    "https://drive.google.com/file/d/1mCjtYHiX--mMUjicuaP2gH3k-SnFxt8Y/view?usp=share_\n",
    "\n",
    "a. Measure the dispersion in both and interpret the results.\n",
    "\n",
    "b. Calculate mean and 5% confidence interval and plot it in a graph\n",
    "\n",
    "c. Calculate the Mean absolute deviation and Standard deviation and interpret\n",
    "the results.\n",
    "\n",
    "d. Calculate the correlation coefficient and check the significance of it at 1% level\n",
    "of significance."
   ]
  },
  {
   "cell_type": "code",
   "execution_count": 1,
   "id": "8587f390",
   "metadata": {},
   "outputs": [],
   "source": [
    "import pandas as pd\n",
    "import numpy as np\n",
    "from scipy import stats\n",
    "\n",
    "# Load the data into a pandas DataFrame\n",
    "data = pd.read_csv('data.csv')"
   ]
  },
  {
   "cell_type": "code",
   "execution_count": 2,
   "id": "f0b361e0",
   "metadata": {},
   "outputs": [
    {
     "data": {
      "text/html": [
       "<div>\n",
       "<style scoped>\n",
       "    .dataframe tbody tr th:only-of-type {\n",
       "        vertical-align: middle;\n",
       "    }\n",
       "\n",
       "    .dataframe tbody tr th {\n",
       "        vertical-align: top;\n",
       "    }\n",
       "\n",
       "    .dataframe thead th {\n",
       "        text-align: right;\n",
       "    }\n",
       "</style>\n",
       "<table border=\"1\" class=\"dataframe\">\n",
       "  <thead>\n",
       "    <tr style=\"text-align: right;\">\n",
       "      <th></th>\n",
       "      <th>Patient ID</th>\n",
       "      <th>Blood Pressure Before (mmHg)</th>\n",
       "      <th>Blood Pressure After (mmHg)</th>\n",
       "    </tr>\n",
       "  </thead>\n",
       "  <tbody>\n",
       "    <tr>\n",
       "      <th>0</th>\n",
       "      <td>1</td>\n",
       "      <td>130</td>\n",
       "      <td>120</td>\n",
       "    </tr>\n",
       "    <tr>\n",
       "      <th>1</th>\n",
       "      <td>2</td>\n",
       "      <td>142</td>\n",
       "      <td>135</td>\n",
       "    </tr>\n",
       "    <tr>\n",
       "      <th>2</th>\n",
       "      <td>3</td>\n",
       "      <td>120</td>\n",
       "      <td>118</td>\n",
       "    </tr>\n",
       "    <tr>\n",
       "      <th>3</th>\n",
       "      <td>4</td>\n",
       "      <td>135</td>\n",
       "      <td>127</td>\n",
       "    </tr>\n",
       "    <tr>\n",
       "      <th>4</th>\n",
       "      <td>5</td>\n",
       "      <td>148</td>\n",
       "      <td>140</td>\n",
       "    </tr>\n",
       "    <tr>\n",
       "      <th>...</th>\n",
       "      <td>...</td>\n",
       "      <td>...</td>\n",
       "      <td>...</td>\n",
       "    </tr>\n",
       "    <tr>\n",
       "      <th>95</th>\n",
       "      <td>96</td>\n",
       "      <td>136</td>\n",
       "      <td>129</td>\n",
       "    </tr>\n",
       "    <tr>\n",
       "      <th>96</th>\n",
       "      <td>97</td>\n",
       "      <td>143</td>\n",
       "      <td>137</td>\n",
       "    </tr>\n",
       "    <tr>\n",
       "      <th>97</th>\n",
       "      <td>98</td>\n",
       "      <td>127</td>\n",
       "      <td>123</td>\n",
       "    </tr>\n",
       "    <tr>\n",
       "      <th>98</th>\n",
       "      <td>99</td>\n",
       "      <td>139</td>\n",
       "      <td>135</td>\n",
       "    </tr>\n",
       "    <tr>\n",
       "      <th>99</th>\n",
       "      <td>100</td>\n",
       "      <td>135</td>\n",
       "      <td>130</td>\n",
       "    </tr>\n",
       "  </tbody>\n",
       "</table>\n",
       "<p>100 rows × 3 columns</p>\n",
       "</div>"
      ],
      "text/plain": [
       "    Patient ID   Blood Pressure Before (mmHg)   Blood Pressure After (mmHg)\n",
       "0            1                            130                           120\n",
       "1            2                            142                           135\n",
       "2            3                            120                           118\n",
       "3            4                            135                           127\n",
       "4            5                            148                           140\n",
       "..         ...                            ...                           ...\n",
       "95          96                            136                           129\n",
       "96          97                            143                           137\n",
       "97          98                            127                           123\n",
       "98          99                            139                           135\n",
       "99         100                            135                           130\n",
       "\n",
       "[100 rows x 3 columns]"
      ]
     },
     "execution_count": 2,
     "metadata": {},
     "output_type": "execute_result"
    }
   ],
   "source": [
    "data\n"
   ]
  },
  {
   "cell_type": "code",
   "execution_count": 3,
   "id": "3b367c6b",
   "metadata": {},
   "outputs": [],
   "source": [
    "# Calculate dispersion\n",
    "dispersion_before = data[' Blood Pressure Before (mmHg)'].max() - data[' Blood Pressure Before (mmHg)'].min()\n",
    "dispersion_after = data[' Blood Pressure After (mmHg)'].max() - data[' Blood Pressure After (mmHg)'].min()\n"
   ]
  },
  {
   "cell_type": "code",
   "execution_count": 4,
   "id": "5246ccd4",
   "metadata": {},
   "outputs": [],
   "source": [
    "# Calculate mean and confidence interval\n",
    "mean_before = data[' Blood Pressure Before (mmHg)'].mean()\n",
    "std_before = data[' Blood Pressure Before (mmHg)'].std()\n",
    "n_before = len(data[' Blood Pressure Before (mmHg)'])\n",
    "conf_interval_before = (1.96 * std_before) / np.sqrt(n_before)  "
   ]
  },
  {
   "cell_type": "code",
   "execution_count": 5,
   "id": "c42ffdcf",
   "metadata": {},
   "outputs": [],
   "source": [
    "# Calculate mean absolute deviation and standard deviation\n",
    "mad_before = np.mean(np.abs(data[' Blood Pressure Before (mmHg)'] - mean_before))\n",
    "std_before = data[' Blood Pressure Before (mmHg)'].std()"
   ]
  },
  {
   "cell_type": "code",
   "execution_count": 6,
   "id": "6c63c012",
   "metadata": {},
   "outputs": [],
   "source": [
    "# Calculate correlation coefficient\n",
    "corr_coef = data[' Blood Pressure Before (mmHg)'].corr(data[' Blood Pressure After (mmHg)'])\n",
    "\n",
    "# Calculate t-value and p-value\n",
    "n = len(data)\n",
    "t_value = corr_coef * np.sqrt((n - 2) / (1 - corr_coef ** 2))  \n",
    "p_value = 2 * (1 - stats.t.cdf(np.abs(t_value), n - 2))  "
   ]
  },
  {
   "cell_type": "code",
   "execution_count": 7,
   "id": "e5b2678b",
   "metadata": {},
   "outputs": [
    {
     "name": "stdout",
     "output_type": "stream",
     "text": [
      "Dispersion in Blood Pressure Before: 28\n",
      "Dispersion in Blood Pressure After: 23\n",
      "Mean Before: 133.91\n",
      "Confidence Interval Before: 132.6167375095941 135.2032624904059\n",
      "Mean Absolute Deviation (MAD) Before: 5.7118\n",
      "Standard Deviation (SD) Before: 6.598278012275075\n",
      "Correlation Coefficient: 0.9779485966556016\n",
      "p-value: 0.0\n"
     ]
    }
   ],
   "source": [
    "# Print the results\n",
    "print(\"Dispersion in Blood Pressure Before:\", dispersion_before)\n",
    "print(\"Dispersion in Blood Pressure After:\", dispersion_after)\n",
    "print(\"Mean Before:\", mean_before)\n",
    "print(\"Confidence Interval Before:\", mean_before - conf_interval_before, mean_before + conf_interval_before)\n",
    "print(\"Mean Absolute Deviation (MAD) Before:\", mad_before)\n",
    "print(\"Standard Deviation (SD) Before:\", std_before)\n",
    "print(\"Correlation Coefficient:\", corr_coef)\n",
    "print(\"p-value:\", p_value)\n"
   ]
  },
  {
   "cell_type": "markdown",
   "id": "8e2c50d9",
   "metadata": {},
   "source": [
    "#### Q-4. \n",
    "A group of 20 friends decide to play a game in which they each write a number\n",
    "between 1 and 20 on a slip of paper and put it into a hat. They then draw one slip of paper\n",
    "at random. What is the probability that the number on the slip of paper is a perfect square\n",
    "(i.e., 1, 4, 9, or 16)?"
   ]
  },
  {
   "cell_type": "code",
   "execution_count": 9,
   "id": "6d0b16ed",
   "metadata": {},
   "outputs": [
    {
     "name": "stdout",
     "output_type": "stream",
     "text": [
      "The probability that the number on the slip of paper is a perfect square is  0.2\n"
     ]
    }
   ],
   "source": [
    "# There are 4 perfect squares 1,4,9,16\n",
    "# Totally there are 20 slips\n",
    "prob = 4/20\n",
    "print('The probability that the number on the slip of paper is a perfect square is ',prob)"
   ]
  },
  {
   "cell_type": "markdown",
   "id": "a8a22107",
   "metadata": {},
   "source": [
    "#### Q-6. \n",
    "A pharmaceutical company is developing a drug that is supposed to reduce blood\n",
    "pressure. They conduct a clinical trial with 100 patients and record their blood\n",
    "pressure before and after taking the drug. \n",
    "\n",
    "The company wants to know if the changein blood pressure follows a normal distribution.\n",
    "\n",
    "https://drive.google.com/file/d/1mCjtYHiX--mMUjicuaP2gH3k-SnFxt8Y/view?usp=share_"
   ]
  },
  {
   "cell_type": "code",
   "execution_count": 12,
   "id": "2889adf0",
   "metadata": {},
   "outputs": [],
   "source": [
    "data = pd.read_csv('data.csv')\n",
    "data['Change in Bp'] = data[' Blood Pressure After (mmHg)'] - data[' Blood Pressure Before (mmHg)']"
   ]
  },
  {
   "cell_type": "code",
   "execution_count": 13,
   "id": "d15ffa90",
   "metadata": {},
   "outputs": [
    {
     "data": {
      "text/plain": [
       "<Axes: >"
      ]
     },
     "execution_count": 13,
     "metadata": {},
     "output_type": "execute_result"
    },
    {
     "data": {
      "image/png": "[encoded data removed]",
      "text/plain": [
       "<Figure size 640x480 with 1 Axes>"
      ]
     },
     "metadata": {},
     "output_type": "display_data"
    }
   ],
   "source": [
    "data['Change in Bp'].plot(kind = 'box')"
   ]
  },
  {
   "cell_type": "code",
   "execution_count": 14,
   "id": "cbafe42a",
   "metadata": {},
   "outputs": [
    {
     "name": "stdout",
     "output_type": "stream",
     "text": [
      "-0.19249414486106803\n",
      "0.01014432784689756\n"
     ]
    }
   ],
   "source": [
    "from scipy import stats\n",
    "\n",
    "skewness = stats.skew(data['Change in Bp'])\n",
    "kurotisis = stats.kurtosis(data['Change in Bp'])\n",
    "print(skewness)\n",
    "print(kurotisis)\n",
    "#skewness and kurotis are almost equal to zero hence the change in Bp may not follow Normal distribution"
   ]
  },
  {
   "cell_type": "markdown",
   "id": "4caa93c7",
   "metadata": {},
   "source": [
    "#### Q-8. \n",
    "The anxiety levels of 10 participants were measured before and after a new therapy.\n",
    "The scores are not normally distributed. Use the Wilcoxon signed-rank test to test whether\n",
    "the therapy had a significant effect on anxiety levels. The data is given below: Participant\n",
    "Before therapy After therapy Difference\n",
    "\n",
    "Data is given in the question as Image So i have manually entered the data in the image "
   ]
  },
  {
   "cell_type": "code",
   "execution_count": 15,
   "id": "2b60420f",
   "metadata": {},
   "outputs": [
    {
     "name": "stdout",
     "output_type": "stream",
     "text": [
      "Test statistic: 0.0\n",
      "P-value: 0.001953125\n"
     ]
    }
   ],
   "source": [
    "# Import necessary modules\n",
    "import numpy as np\n",
    "from scipy.stats import wilcoxon\n",
    "\n",
    "# Define the before and after therapy data\n",
    "before_therapy = np.array([10,8,12,15,6,9,11,7,14,10])\n",
    "after_therapy = np.array([7,6,10,12,5,8,9,6,12,8])\n",
    "\n",
    "# Perform the Wilcoxon signed-rank test\n",
    "statistic, p_value = wilcoxon(before_therapy, after_therapy)\n",
    "\n",
    "print(\"Test statistic:\", statistic)\n",
    "print(\"P-value:\", p_value)\n"
   ]
  },
  {
   "cell_type": "markdown",
   "id": "5f08e23e",
   "metadata": {},
   "source": [
    "#### Q-9. \n",
    "Given the score of students in multiple exams\n",
    "Test the hypothesis that the mean scores of all the students are the same. If not, name the\n",
    "student with the highest score.\n",
    "\n",
    "Data is given in the question as Image So i have manually entered the data in the image"
   ]
  },
  {
   "cell_type": "code",
   "execution_count": 16,
   "id": "3cf3eabd",
   "metadata": {},
   "outputs": [
    {
     "name": "stdout",
     "output_type": "stream",
     "text": [
      "F-statistic: 0.3236947791164659\n",
      "P-value: 0.7295954253321559\n",
      "Fail to reject the null hypothesis. The mean scores are the same.\n"
     ]
    }
   ],
   "source": [
    "import numpy as np\n",
    "from scipy.stats import f_oneway\n",
    "\n",
    "# Create the dataset (5 students x 3 exams)\n",
    "scores = np.array([[85, 90, 92],\n",
    "                   [70, 80, 85],\n",
    "                   [90, 85, 88],\n",
    "                   [75, 70, 75],\n",
    "                   [95, 92, 96]])\n",
    "\n",
    "#Null Hypothesis:he mean scores are the same\n",
    "#Alternate Hypothesis:he mean scores are not the same\n",
    "\n",
    "# Perform the ANOVA test\n",
    "f_statistic, p_value = f_oneway(*scores.T)\n",
    "\n",
    "# Set the significance level\n",
    "alpha = 0.05\n",
    "\n",
    "print(\"F-statistic:\", f_statistic)\n",
    "print(\"P-value:\", p_value)\n",
    "\n",
    "if p_value < alpha:\n",
    "    print(\"Reject the null hypothesis. The mean scores are not the same.\")\n",
    "    highest_score_student = np.argmax(np.mean(scores, axis=1))\n",
    "    print(\"Student with the highest score:\", highest_score_student)\n",
    "else:\n",
    "    print(\"Fail to reject the null hypothesis. The mean scores are the same.\")\n"
   ]
  },
  {
   "cell_type": "markdown",
   "id": "890cbe2c",
   "metadata": {},
   "source": [
    "#### Q-11.\n",
    "Given the data of a feature contributing to different classes\n",
    "\n",
    "https://drive.google.com/file/d/1mCjtYHiX--mMUjicuaP2gH3k-SnFxt8Y/view?usp=share_\n",
    "\n",
    "a. Check whether the distribution of all the classes are the same or not.\n",
    "\n",
    "b. Check for the equality of variance/\n",
    "\n",
    "c. Which amount LDA and QDA would perform better on this data for\n",
    "classification and why.\n",
    "\n",
    "d. Check the equality of mean for between all the classes."
   ]
  },
  {
   "cell_type": "code",
   "execution_count": 4,
   "id": "03aac988",
   "metadata": {},
   "outputs": [
    {
     "data": {
      "image/png": "[encoded data removed]",
      "text/plain": [
       "<Figure size 640x480 with 1 Axes>"
      ]
     },
     "metadata": {},
     "output_type": "display_data"
    }
   ],
   "source": [
    "import matplotlib.pyplot as plt\n",
    "import pandas as pd\n",
    "import numpy as np\n",
    "\n",
    "data = pd.read_csv('data.csv')\n",
    "# Plot histograms\n",
    "plt.hist(data[' Blood Pressure Before (mmHg)'], bins=10, alpha=0.5, label='Before')\n",
    "plt.hist(data[' Blood Pressure After (mmHg)'], bins=10, alpha=0.5, label='After')\n",
    "plt.xlabel('Blood Pressure (mmHg)')\n",
    "plt.ylabel('Frequency')\n",
    "plt.title('Distribution of Blood Pressure Before and After')\n",
    "plt.legend()\n",
    "plt.show()\n"
   ]
  },
  {
   "cell_type": "code",
   "execution_count": 5,
   "id": "902ff50e",
   "metadata": {},
   "outputs": [],
   "source": [
    "# the distribution of all the classes is not exactly same"
   ]
  },
  {
   "cell_type": "code",
   "execution_count": 7,
   "id": "bc2d7e44",
   "metadata": {},
   "outputs": [
    {
     "name": "stdout",
     "output_type": "stream",
     "text": [
      "Levene's test statistic: 0.18038002140150966\n",
      "P-value: 0.6715080090945376\n"
     ]
    }
   ],
   "source": [
    "from scipy.stats import levene\n",
    "\n",
    "# Perform Levene's test for equality of variance\n",
    "statistic, p_value = levene(data[' Blood Pressure Before (mmHg)'], data[' Blood Pressure After (mmHg)'])\n",
    "\n",
    "alpha = 0.05\n",
    "\n",
    "print(\"Levene's test statistic:\", statistic)\n",
    "print(\"P-value:\", p_value)\n",
    "\n"
   ]
  },
  {
   "cell_type": "code",
   "execution_count": 11,
   "id": "afe9d428",
   "metadata": {},
   "outputs": [],
   "source": [
    "# Hence the p value is greater than alpha  reject the null hypothesis. Variances are significantly different."
   ]
  },
  {
   "cell_type": "code",
   "execution_count": 9,
   "id": "c0407fa6",
   "metadata": {},
   "outputs": [
    {
     "name": "stdout",
     "output_type": "stream",
     "text": [
      "Independent t-test statistic: 5.818552457956588\n",
      "P-value: 2.3565868442709904e-08\n",
      "Reject the null hypothesis. Means are significantly different.\n"
     ]
    }
   ],
   "source": [
    "from scipy.stats import ttest_ind\n",
    "\n",
    "# Perform independent t-test\n",
    "statistic, p_value = ttest_ind(data[' Blood Pressure Before (mmHg)'], data[' Blood Pressure After (mmHg)'])\n",
    "\n",
    "alpha = 0.05\n",
    "\n",
    "print(\"Independent t-test statistic:\", statistic)\n",
    "print(\"P-value:\", p_value)\n",
    "\n",
    "if p_value < alpha:\n",
    "    print(\"Reject the null hypothesis. Means are significantly different.\")\n",
    "else:\n",
    "    print(\"Fail to reject the null hypothesis. Means are not significantly different.\")\n"
   ]
  },
  {
   "cell_type": "code",
   "execution_count": 10,
   "id": "c4c3119c",
   "metadata": {},
   "outputs": [],
   "source": [
    "# P value is greater than alpha Reject the null hypothesis. Means are significantly different."
   ]
  },
  {
   "cell_type": "markdown",
   "id": "7485bb24",
   "metadata": {},
   "source": [
    "#### Q-12. \n",
    "A pharmaceutical company develops a new drug and wants to compare its\n",
    "effectiveness against a standard drug for treating a particular condition. They conduct a\n",
    "study with two groups: Group A receives the new drug, and Group B receives the standard\n",
    "drug. The company measures the improvement in a specific symptom for both groups after\n",
    "a 4-week treatment period.\n",
    "\n",
    "a. The company collects data from 30 patients in each group and calculates the\n",
    "mean improvement score and the standard deviation of improvement for each\n",
    "group. The mean improvement score for Group A is 2.5 with a standard\n",
    "deviation of 0.8, while the mean improvement score for Group B is 2.2 with a\n",
    "standard deviation of 0.6. Conduct a t-test to determine if there is a significant\n",
    "difference in the mean improvement scores between the two groups. Use a\n",
    "significance level of 0.05.\n",
    "\n",
    "b. Based on the t-test results, state whether the null hypothesis should be\n",
    "rejected or not. Provide a conclusion in the context of the study."
   ]
  },
  {
   "cell_type": "code",
   "execution_count": 17,
   "id": "5eea1977",
   "metadata": {},
   "outputs": [
    {
     "name": "stdout",
     "output_type": "stream",
     "text": [
      "Independent t-test statistic: 3637893932810941.5\n",
      "P-value: 0.0\n",
      "Reject the null hypothesis. There is a significant difference in mean improvement scores between the two groups.\n"
     ]
    },
    {
     "name": "stderr",
     "output_type": "stream",
     "text": [
      "C:\\Users\\Raja.Balasubramani\\AppData\\Local\\Temp\\ipykernel_5112\\3853527196.py:7: RuntimeWarning: Precision loss occurred in moment calculation due to catastrophic cancellation. This occurs when the data are nearly identical. Results may be unreliable.\n",
      "  statistic, p_value = ttest_ind(group_A, group_B, equal_var=False)\n"
     ]
    }
   ],
   "source": [
    "from scipy.stats import ttest_ind\n",
    "\n",
    "group_A = [2.5] * 30  \n",
    "group_B = [2.2] * 30  \n",
    "\n",
    "# Perform the independent t-test\n",
    "statistic, p_value = ttest_ind(group_A, group_B, equal_var=False)\n",
    "\n",
    "alpha = 0.05\n",
    "\n",
    "print(\"Independent t-test statistic:\", statistic)\n",
    "print(\"P-value:\", p_value)\n",
    "\n",
    "if p_value < alpha:\n",
    "    print(\"Reject the null hypothesis. There is a significant difference in mean improvement scores between the two groups.\")\n",
    "else:\n",
    "    print(\"Fail to reject the null hypothesis. There is no significant difference in mean improvement scores between the two groups.\")\n"
   ]
  },
  {
   "cell_type": "code",
   "execution_count": null,
   "id": "cc99a9ca",
   "metadata": {},
   "outputs": [],
   "source": []
  }
 ],
 "metadata": {
  "kernelspec": {
   "display_name": "Python 3 (ipykernel)",
   "language": "python",
   "name": "python3"
  },
  "language_info": {
   "codemirror_mode": {
    "name": "ipython",
    "version": 3
   },
   "file_extension": ".py",
   "mimetype": "text/x-python",
   "name": "python",
   "nbconvert_exporter": "python",
   "pygments_lexer": "ipython3",
   "version": "3.10.9"
  }
 },
 "nbformat": 4,
 "nbformat_minor": 5
}
